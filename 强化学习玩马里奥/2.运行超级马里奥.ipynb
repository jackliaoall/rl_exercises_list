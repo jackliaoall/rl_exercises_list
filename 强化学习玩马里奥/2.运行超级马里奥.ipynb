{
 "cells": [
  {
   "cell_type": "code",
   "execution_count": 3,
   "id": "3af93d81",
   "metadata": {},
   "outputs": [
    {
     "name": "stdout",
     "output_type": "stream",
     "text": [
      "Requirement already satisfied: gym-super-mario-bros in c:\\users\\jack\\anaconda3\\lib\\site-packages (7.3.2)\n",
      "Requirement already satisfied: nes-py>=8.1.2 in c:\\users\\jack\\anaconda3\\lib\\site-packages (from gym-super-mario-bros) (8.1.8)\n",
      "Requirement already satisfied: gym>=0.17.2 in c:\\users\\jack\\anaconda3\\lib\\site-packages (from nes-py>=8.1.2->gym-super-mario-bros) (0.23.1)\n",
      "Requirement already satisfied: tqdm>=4.48.2 in c:\\users\\jack\\anaconda3\\lib\\site-packages (from nes-py>=8.1.2->gym-super-mario-bros) (4.62.3)\n",
      "Requirement already satisfied: numpy>=1.18.5 in c:\\users\\jack\\anaconda3\\lib\\site-packages (from nes-py>=8.1.2->gym-super-mario-bros) (1.20.3)\n",
      "Requirement already satisfied: pyglet<=1.5.11,>=1.4.0 in c:\\users\\jack\\anaconda3\\lib\\site-packages (from nes-py>=8.1.2->gym-super-mario-bros) (1.5.11)\n",
      "Requirement already satisfied: importlib-metadata>=4.10.0 in c:\\users\\jack\\anaconda3\\lib\\site-packages (from gym>=0.17.2->nes-py>=8.1.2->gym-super-mario-bros) (4.11.3)\n",
      "Requirement already satisfied: gym-notices>=0.0.4 in c:\\users\\jack\\anaconda3\\lib\\site-packages (from gym>=0.17.2->nes-py>=8.1.2->gym-super-mario-bros) (0.0.6)\n",
      "Requirement already satisfied: cloudpickle>=1.2.0 in c:\\users\\jack\\anaconda3\\lib\\site-packages (from gym>=0.17.2->nes-py>=8.1.2->gym-super-mario-bros) (2.0.0)\n",
      "Requirement already satisfied: zipp>=0.5 in c:\\users\\jack\\anaconda3\\lib\\site-packages (from importlib-metadata>=4.10.0->gym>=0.17.2->nes-py>=8.1.2->gym-super-mario-bros) (3.6.0)\n",
      "Requirement already satisfied: colorama in c:\\users\\jack\\anaconda3\\lib\\site-packages (from tqdm>=4.48.2->nes-py>=8.1.2->gym-super-mario-bros) (0.4.4)\n",
      "Requirement already satisfied: nes-py in c:\\users\\jack\\anaconda3\\lib\\site-packages (8.1.8)\n",
      "Requirement already satisfied: gym>=0.17.2 in c:\\users\\jack\\anaconda3\\lib\\site-packages (from nes-py) (0.23.1)\n",
      "Requirement already satisfied: tqdm>=4.48.2 in c:\\users\\jack\\anaconda3\\lib\\site-packages (from nes-py) (4.62.3)\n",
      "Requirement already satisfied: pyglet<=1.5.11,>=1.4.0 in c:\\users\\jack\\anaconda3\\lib\\site-packages (from nes-py) (1.5.11)\n",
      "Requirement already satisfied: numpy>=1.18.5 in c:\\users\\jack\\anaconda3\\lib\\site-packages (from nes-py) (1.20.3)\n",
      "Requirement already satisfied: gym-notices>=0.0.4 in c:\\users\\jack\\anaconda3\\lib\\site-packages (from gym>=0.17.2->nes-py) (0.0.6)\n",
      "Requirement already satisfied: importlib-metadata>=4.10.0 in c:\\users\\jack\\anaconda3\\lib\\site-packages (from gym>=0.17.2->nes-py) (4.11.3)\n",
      "Requirement already satisfied: cloudpickle>=1.2.0 in c:\\users\\jack\\anaconda3\\lib\\site-packages (from gym>=0.17.2->nes-py) (2.0.0)\n",
      "Requirement already satisfied: zipp>=0.5 in c:\\users\\jack\\anaconda3\\lib\\site-packages (from importlib-metadata>=4.10.0->gym>=0.17.2->nes-py) (3.6.0)\n",
      "Requirement already satisfied: colorama in c:\\users\\jack\\anaconda3\\lib\\site-packages (from tqdm>=4.48.2->nes-py) (0.4.4)\n"
     ]
    }
   ],
   "source": [
    "#安裝Mario環境\n",
    "!pip install gym-super-mario-bros\n",
    "!pip install nes-py"
   ]
  },
  {
   "cell_type": "code",
   "execution_count": 4,
   "id": "cdf97b99",
   "metadata": {},
   "outputs": [
    {
     "name": "stderr",
     "output_type": "stream",
     "text": [
      "C:\\Users\\jack\\anaconda3\\lib\\site-packages\\gym\\envs\\registration.py:505: UserWarning: \u001b[33mWARN: The environment SuperMarioBros-v0 is out of date. You should consider upgrading to version `v3` with the environment ID `SuperMarioBros-v3`.\u001b[0m\n",
      "  logger.warn(\n",
      "C:\\Users\\jack\\anaconda3\\lib\\site-packages\\pyglet\\image\\codecs\\wic.py:289: UserWarning: [WinError -2147417850] 執行緒模式設定後就不能再變更它。\n",
      "  warnings.warn(str(err))\n"
     ]
    },
    {
     "ename": "KeyboardInterrupt",
     "evalue": "",
     "output_type": "error",
     "traceback": [
      "\u001b[1;31m---------------------------------------------------------------------------\u001b[0m",
      "\u001b[1;31mKeyboardInterrupt\u001b[0m                         Traceback (most recent call last)",
      "\u001b[1;32m~\\AppData\\Local\\Temp/ipykernel_14024/4200617722.py\u001b[0m in \u001b[0;36m<module>\u001b[1;34m\u001b[0m\n\u001b[0;32m     12\u001b[0m         \u001b[0mstate\u001b[0m \u001b[1;33m=\u001b[0m \u001b[0menv\u001b[0m\u001b[1;33m.\u001b[0m\u001b[0mreset\u001b[0m\u001b[1;33m(\u001b[0m\u001b[1;33m)\u001b[0m\u001b[1;33m\u001b[0m\u001b[1;33m\u001b[0m\u001b[0m\n\u001b[0;32m     13\u001b[0m     \u001b[0mstate\u001b[0m\u001b[1;33m,\u001b[0m \u001b[0mreward\u001b[0m\u001b[1;33m,\u001b[0m \u001b[0mdone\u001b[0m\u001b[1;33m,\u001b[0m \u001b[0minfo\u001b[0m \u001b[1;33m=\u001b[0m \u001b[0menv\u001b[0m\u001b[1;33m.\u001b[0m\u001b[0mstep\u001b[0m\u001b[1;33m(\u001b[0m\u001b[0menv\u001b[0m\u001b[1;33m.\u001b[0m\u001b[0maction_space\u001b[0m\u001b[1;33m.\u001b[0m\u001b[0msample\u001b[0m\u001b[1;33m(\u001b[0m\u001b[1;33m)\u001b[0m\u001b[1;33m)\u001b[0m\u001b[1;33m\u001b[0m\u001b[1;33m\u001b[0m\u001b[0m\n\u001b[1;32m---> 14\u001b[1;33m     \u001b[0mtime\u001b[0m\u001b[1;33m.\u001b[0m\u001b[0msleep\u001b[0m\u001b[1;33m(\u001b[0m\u001b[1;36m0.01\u001b[0m\u001b[1;33m)\u001b[0m\u001b[1;33m\u001b[0m\u001b[1;33m\u001b[0m\u001b[0m\n\u001b[0m\u001b[0;32m     15\u001b[0m     \u001b[0menv\u001b[0m\u001b[1;33m.\u001b[0m\u001b[0mrender\u001b[0m\u001b[1;33m(\u001b[0m\u001b[1;33m)\u001b[0m\u001b[1;33m\u001b[0m\u001b[1;33m\u001b[0m\u001b[0m\n\u001b[0;32m     16\u001b[0m \u001b[1;33m\u001b[0m\u001b[0m\n",
      "\u001b[1;31mKeyboardInterrupt\u001b[0m: "
     ]
    }
   ],
   "source": [
    "from nes_py.wrappers import JoypadSpace\n",
    "import gym_super_mario_bros\n",
    "from gym_super_mario_bros.actions import SIMPLE_MOVEMENT\n",
    "import time\n",
    "\n",
    "env = gym_super_mario_bros.make('SuperMarioBros-v0')\n",
    "env = JoypadSpace(env, SIMPLE_MOVEMENT)\n",
    "\n",
    "done = True\n",
    "for step in range(5000):\n",
    "    if done:\n",
    "        state = env.reset()\n",
    "    state, reward, done, info = env.step(env.action_space.sample())\n",
    "    time.sleep(0.01)\n",
    "    env.render()\n",
    "\n",
    "env.close()"
   ]
  },
  {
   "cell_type": "code",
   "execution_count": 5,
   "id": "b8f2ebfb",
   "metadata": {},
   "outputs": [],
   "source": [
    "env.close()"
   ]
  }
 ],
 "metadata": {
  "kernelspec": {
   "display_name": "Python 3 (ipykernel)",
   "language": "python",
   "name": "python3"
  },
  "language_info": {
   "codemirror_mode": {
    "name": "ipython",
    "version": 3
   },
   "file_extension": ".py",
   "mimetype": "text/x-python",
   "name": "python",
   "nbconvert_exporter": "python",
   "pygments_lexer": "ipython3",
   "version": "3.9.7"
  }
 },
 "nbformat": 4,
 "nbformat_minor": 5
}
